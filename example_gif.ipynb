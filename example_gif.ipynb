{
 "cells": [
  {
   "cell_type": "markdown",
   "metadata": {},
   "source": [
    "# Choromorph – GIF Generation of Step-by-Step Vector Field\n",
    "This notebook visualizes the morphing process using POI attraction and neighbor cohesion. It saves each step as frames and compiles them into a GIF."
   ],
   "id": "2f0f23fd54a6c46f"
  },
  {
   "cell_type": "code",
   "metadata": {
    "ExecuteTime": {
     "end_time": "2025-07-23T15:01:39.721018Z",
     "start_time": "2025-07-23T15:01:39.718742Z"
    }
   },
   "source": [
    "import numpy as np\n",
    "import matplotlib.pyplot as plt\n",
    "from matplotlib.collections import LineCollection\n",
    "import os\n",
    "import shutil\n",
    "import imageio\n"
   ],
   "id": "dedbaa83084303ca",
   "outputs": [],
   "execution_count": 88
  },
  {
   "cell_type": "code",
   "metadata": {
    "ExecuteTime": {
     "end_time": "2025-07-23T15:01:39.739374Z",
     "start_time": "2025-07-23T15:01:39.737091Z"
    }
   },
   "source": [
    "def build_square_grid(n_side: int = 20):\n",
    "    x, y = np.meshgrid(np.linspace(0, 1, n_side), np.linspace(0, 1, n_side))\n",
    "    grid = np.column_stack([x.ravel(), y.ravel()])\n",
    "    edges = []\n",
    "    for r in range(n_side):\n",
    "        for c in range(n_side):\n",
    "            idx = r * n_side + c\n",
    "            if c < n_side - 1:\n",
    "                edges.append([idx, idx + 1])\n",
    "            if r < n_side - 1:\n",
    "                edges.append([idx, idx + n_side])\n",
    "    return grid, np.asarray(edges, dtype=int)"
   ],
   "id": "eabf298efbd19bc8",
   "outputs": [],
   "execution_count": 89
  },
  {
   "cell_type": "code",
   "metadata": {
    "ExecuteTime": {
     "end_time": "2025-07-23T15:01:39.794770Z",
     "start_time": "2025-07-23T15:01:39.791956Z"
    }
   },
   "source": [
    "# Parameters\n",
    "n_side = 16\n",
    "alpha = 0.07\n",
    "beta = 0.45\n",
    "max_iter = 16\n",
    "max_step = 0.5\n",
    "grid, edges = build_square_grid(n_side)\n",
    "pois = np.array([\n",
    "    [0.80, 0.20],\n",
    "    [0.20, 0.80],\n",
    "    [0.60, 0.60],\n",
    "    [0.40, 0.40],\n",
    "    [0.10, 0.30]\n",
    "])"
   ],
   "id": "cf663f53c85dc317",
   "outputs": [],
   "execution_count": 90
  },
  {
   "cell_type": "code",
   "metadata": {
    "ExecuteTime": {
     "end_time": "2025-07-23T15:01:39.846594Z",
     "start_time": "2025-07-23T15:01:39.844240Z"
    }
   },
   "source": [
    "frames_dir = \"images/frames\"\n",
    "if os.path.exists(frames_dir):\n",
    "    shutil.rmtree(frames_dir)\n",
    "os.makedirs(frames_dir, exist_ok=True)"
   ],
   "id": "d32f3f1bcc00b992",
   "outputs": [],
   "execution_count": 91
  },
  {
   "cell_type": "code",
   "metadata": {
    "ExecuteTime": {
     "end_time": "2025-07-23T15:01:45.296741Z",
     "start_time": "2025-07-23T15:01:39.897625Z"
    }
   },
   "source": [
    "# Manual choromorph with frame export\n",
    "g = grid.copy()\n",
    "N = g.shape[0]\n",
    "neighbors = [[] for _ in range(N)]\n",
    "for a, b in edges:\n",
    "    neighbors[a].append(b)\n",
    "    neighbors[b].append(a)\n",
    "\n",
    "images = []\n",
    "for it in range(max_iter):\n",
    "    move = np.zeros_like(g)\n",
    "    for i, n in enumerate(g):\n",
    "        diffs = pois - n\n",
    "        dists = np.linalg.norm(diffs, axis=1)\n",
    "        j = np.argmin(dists)\n",
    "        d = dists[j]\n",
    "        v_poi = alpha * d * (diffs[j] / d) if d > 0 else np.zeros(2)\n",
    "        v_coh = np.zeros(2)\n",
    "        if neighbors[i]:\n",
    "            centroid = g[neighbors[i]].mean(axis=0)\n",
    "            v_coh = beta * (centroid - n)\n",
    "        v = v_poi + v_coh\n",
    "        norm_v = np.linalg.norm(v)\n",
    "        if norm_v > max_step:\n",
    "            v *= max_step / norm_v\n",
    "        move[i] = v\n",
    "\n",
    "    for label, show_vectors in zip(['1_grid', '2_vectors', '3_updated'], [False, True, False]):\n",
    "        fig, ax = plt.subplots(figsize=(6, 6))\n",
    "        ax.add_collection(LineCollection(g[edges], colors='lightgray', linewidths=1.0, alpha=0.5))\n",
    "        ax.scatter(g[:, 0], g[:, 1], s=8, color='tab:blue', alpha=0.5, label='Nodes')\n",
    "        ax.scatter(pois[:, 0], pois[:, 1], s=90, marker='*', color='tab:red', label='POIs')\n",
    "        if show_vectors:\n",
    "            ax.quiver(g[:, 0], g[:, 1], move[:, 0], move[:, 1],\n",
    "                      angles='xy', scale_units='xy', scale=1, alpha=0.7,\n",
    "                      color='tab:orange', width=0.003, label='Total move')\n",
    "        ax.set_aspect('equal')\n",
    "        ax.set_xlim(grid[:, 0].min() - 0.1, grid[:, 0].max() + 0.1)\n",
    "        ax.set_ylim(grid[:, 1].min() - 0.1, grid[:, 1].max() + 0.1)\n",
    "        ax.set_title(f\"Step {it+1}: {label.replace('_', ' ').title()}\")\n",
    "        plt.tight_layout()\n",
    "        frame_path = os.path.join(frames_dir, f\"frame_{it:02d}_{label}.png\")\n",
    "        plt.savefig(frame_path)\n",
    "        plt.close()\n",
    "        images.append(imageio.v2.imread(frame_path))\n",
    "\n",
    "    g += move"
   ],
   "id": "e63930c6ac737702",
   "outputs": [],
   "execution_count": 92
  },
  {
   "cell_type": "code",
   "metadata": {
    "ExecuteTime": {
     "end_time": "2025-07-23T15:01:45.780392Z",
     "start_time": "2025-07-23T15:01:45.313534Z"
    }
   },
   "source": [
    "# Save the animation\n",
    "gif_path = \"images/choromorph_steps.gif\"\n",
    "imageio.mimsave(gif_path, images, duration=0.8)\n",
    "print(f\"GIF saved to {gif_path}\")"
   ],
   "id": "e7b5447fceb8f0cb",
   "outputs": [
    {
     "name": "stdout",
     "output_type": "stream",
     "text": [
      "GIF saved to choromorph_steps.gif\n"
     ]
    }
   ],
   "execution_count": 93
  }
 ],
 "metadata": {
  "kernelspec": {
   "display_name": "Python 3",
   "language": "python",
   "name": "python3"
  },
  "language_info": {
   "name": "python",
   "version": "3.9"
  }
 },
 "nbformat": 4,
 "nbformat_minor": 5
}
